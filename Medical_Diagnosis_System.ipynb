{
  "nbformat": 4,
  "nbformat_minor": 0,
  "metadata": {
    "colab": {
      "provenance": []
    },
    "kernelspec": {
      "name": "python3",
      "display_name": "Python 3"
    },
    "language_info": {
      "name": "python"
    }
  },
  "cells": [
    {
      "cell_type": "code",
      "execution_count": 1,
      "metadata": {
        "colab": {
          "base_uri": "https://localhost:8080/"
        },
        "id": "8V-IDIL0lAGF",
        "outputId": "44772796-6f31-4eae-baa6-ade0fc0c504c"
      },
      "outputs": [
        {
          "output_type": "stream",
          "name": "stdout",
          "text": [
            "Looking in indexes: https://pypi.org/simple, https://us-python.pkg.dev/colab-wheels/public/simple/\n",
            "Collecting scikit-fuzzy\n",
            "  Downloading scikit-fuzzy-0.4.2.tar.gz (993 kB)\n",
            "\u001b[2K     \u001b[90m━━━━━━━━━━━━━━━━━━━━━━━━━━━━━━━━━━━━━━\u001b[0m \u001b[32m994.0/994.0 KB\u001b[0m \u001b[31m15.8 MB/s\u001b[0m eta \u001b[36m0:00:00\u001b[0m\n",
            "\u001b[?25h  Preparing metadata (setup.py) ... \u001b[?25l\u001b[?25hdone\n",
            "Requirement already satisfied: numpy>=1.6.0 in /usr/local/lib/python3.9/dist-packages (from scikit-fuzzy) (1.22.4)\n",
            "Requirement already satisfied: scipy>=0.9.0 in /usr/local/lib/python3.9/dist-packages (from scikit-fuzzy) (1.10.1)\n",
            "Requirement already satisfied: networkx>=1.9.0 in /usr/local/lib/python3.9/dist-packages (from scikit-fuzzy) (3.0)\n",
            "Building wheels for collected packages: scikit-fuzzy\n",
            "  Building wheel for scikit-fuzzy (setup.py) ... \u001b[?25l\u001b[?25hdone\n",
            "  Created wheel for scikit-fuzzy: filename=scikit_fuzzy-0.4.2-py3-none-any.whl size=894088 sha256=9ba8894c83d1a0be7801a805c96c6dafe516669d182f5236012d45bbb663fe43\n",
            "  Stored in directory: /root/.cache/pip/wheels/32/2c/a1/a90a7d7dd8448ec029f298a61f3490275e99b17aa348be675c\n",
            "Successfully built scikit-fuzzy\n",
            "Installing collected packages: scikit-fuzzy\n",
            "Successfully installed scikit-fuzzy-0.4.2\n"
          ]
        }
      ],
      "source": [
        "pip install scikit-fuzzy "
      ]
    },
    {
      "cell_type": "code",
      "source": [
        "import numpy as np\n",
        "import skfuzzy as fuzz\n",
        "from skfuzzy import control as ctrl\n",
        "Fever = ctrl.Antecedent(np.arange(0.1,1.1,0.1),'Fever')\n",
        "Headache = ctrl.Antecedent(np.arange(0.1,1.1,0.1),'Headache')\n",
        "Nausea = ctrl.Antecedent(np.arange(0.1,1.1,0.1),'Nausea')\n",
        "Vomiting = ctrl.Antecedent(np.arange(0.1,1.1,0.1),'Vomiting')\n",
        "Jaundice = ctrl.Antecedent(np.arange(0.1,1.1,0.1),'Jaundice')\n",
        "Enlarge_Liver = ctrl.Antecedent(np.arange(0.1,1.1,0.1),'Enlarge_Liver')\n",
        "Joint_Pain = ctrl.Antecedent(np.arange(0.1,1.1,0.1),'Joint_Pain')\n",
        "Body_Weakness = ctrl.Antecedent(np.arange(0.1,1.1,0.1),'Body_Weakness')\n",
        "Dissiness = ctrl.Antecedent(np.arange(0.1,1.1,0.1),'Dissiness')\n",
        "Loss_of_Appetite = ctrl.Antecedent(np.arange(0.1,1.1,0.1),'Loss_of_Appetite')\n",
        "MP = ctrl.Antecedent(np.arange(0.1,1.1,0.1),'MP')\n",
        "Conclusion = ctrl.Consequent(np.arange(0.1,1.1,0.1),'Conclusion')\n",
        "\n",
        "Fever['Minor'] = fuzz.trimf(Fever.universe,[0.1,0.1,0.3])\n",
        "Fever['Moderate'] = fuzz.trimf(Fever.universe,[0.3,0.45,0.6])\n",
        "Fever['Severe'] = fuzz.trimf(Fever.universe,[0.6,0.7,0.8])\n",
        "Fever['Very Severe'] = fuzz.trimf(Fever.universe,[0.8,1,1])\n",
        "\n",
        "Headache['Minor'] = fuzz.trimf(Headache.universe,[0.1,0.1,0.3])\n",
        "Headache['Moderate'] = fuzz.trimf(Headache.universe,[0.3,0.45,0.6])\n",
        "Headache['Severe'] = fuzz.trimf(Headache.universe,[0.6,0.7,0.8])\n",
        "Headache['Very Severe'] = fuzz.trimf(Headache.universe,[0.8,1,1])\n",
        "\n",
        "Nausea['Minor'] = fuzz.trimf(Nausea.universe,[0.1,0.1,0.3])\n",
        "Nausea['Moderate'] = fuzz.trimf(Nausea.universe,[0.3,0.45,0.6])\n",
        "Nausea['Severe'] = fuzz.trimf(Nausea.universe,[0.6,0.7,0.8])\n",
        "Nausea['Very Severe'] = fuzz.trimf(Nausea.universe,[0.8,1,1])\n",
        "\n",
        "Vomiting['Minor'] = fuzz.trimf(Vomiting.universe,[0.1,0.1,0.3])\n",
        "Vomiting['Moderate'] = fuzz.trimf(Vomiting.universe,[0.3,0.45,0.6])\n",
        "Vomiting['Severe'] = fuzz.trimf(Vomiting.universe,[0.6,0.7,0.8])\n",
        "Vomiting['Very Severe'] = fuzz.trimf(Vomiting.universe,[0.8,1,1])\n",
        "\n",
        "Jaundice['Minor'] = fuzz.trimf(Jaundice.universe,[0.1,0.1,0.3])\n",
        "Jaundice['Moderate'] = fuzz.trimf(Jaundice.universe,[0.3,0.45,0.6])\n",
        "Jaundice['Severe'] = fuzz.trimf(Jaundice.universe,[0.6,0.7,0.8])\n",
        "Jaundice['Very Severe'] = fuzz.trimf(Jaundice.universe,[0.8,1,1])\n",
        "\n",
        "Enlarge_Liver['Minor'] = fuzz.trimf(Enlarge_Liver.universe,[0.1,0.1,0.3])\n",
        "Enlarge_Liver['Moderate'] = fuzz.trimf(Enlarge_Liver.universe,[0.3,0.45,0.6])\n",
        "Enlarge_Liver['Severe'] = fuzz.trimf(Enlarge_Liver.universe,[0.6,0.7,0.8])\n",
        "Enlarge_Liver['Very Severe'] = fuzz.trimf(Enlarge_Liver.universe,[0.8,1,1])\n",
        "\n",
        "Joint_Pain['Minor'] = fuzz.trimf(Joint_Pain.universe,[0.1,0.1,0.3])\n",
        "Joint_Pain['Moderate'] = fuzz.trimf(Joint_Pain.universe,[0.3,0.45,0.6])\n",
        "Joint_Pain['Severe'] = fuzz.trimf(Joint_Pain.universe,[0.6,0.7,0.8])\n",
        "Joint_Pain['Very Severe'] = fuzz.trimf(Joint_Pain.universe,[0.8,1,1])\n",
        "\n",
        "Body_Weakness['Minor'] = fuzz.trimf(Body_Weakness.universe,[0.1,0.1,0.3])\n",
        "Body_Weakness['Moderate'] = fuzz.trimf(Body_Weakness.universe,[0.3,0.45,0.6])\n",
        "Body_Weakness['Severe'] = fuzz.trimf(Body_Weakness.universe,[0.6,0.7,0.8])\n",
        "Body_Weakness['Very Severe'] = fuzz.trimf(Body_Weakness.universe,[0.8,1,1])\n",
        "\n",
        "Dissiness['Minor'] = fuzz.trimf(Dissiness.universe,[0.1,0.1,0.3])\n",
        "Dissiness['Moderate'] = fuzz.trimf(Dissiness.universe,[0.3,0.45,0.6])\n",
        "Dissiness['Severe'] = fuzz.trimf(Dissiness.universe,[0.6,0.7,0.8])\n",
        "Dissiness['Very Severe'] = fuzz.trimf(Dissiness.universe,[0.8,1,1])\n",
        "\n",
        "Loss_of_Appetite['Minor'] = fuzz.trimf(Loss_of_Appetite.universe,[0.1,0.1,0.3])\n",
        "Loss_of_Appetite['Moderate'] = fuzz.trimf(Loss_of_Appetite.universe,[0.3,0.45,0.6])\n",
        "Loss_of_Appetite['Severe'] = fuzz.trimf(Loss_of_Appetite.universe,[0.6,0.7,0.8])\n",
        "Loss_of_Appetite['Very Severe'] = fuzz.trimf(Loss_of_Appetite.universe,[0.8,1,1])\n",
        "\n",
        "MP['Minor'] = fuzz.trimf(MP.universe,[0.1,0.1,0.3])\n",
        "MP['Moderate'] = fuzz.trimf(MP.universe,[0.3,0.45,0.6])\n",
        "MP['Severe'] = fuzz.trimf(MP.universe,[0.6,0.7,0.8])\n",
        "MP['Very Severe'] = fuzz.trimf(MP.universe,[0.8,1,1])\n",
        "\n",
        "Conclusion['Minor'] = fuzz.trimf(Conclusion.universe,[0.1,0.1,0.3])\n",
        "Conclusion['Moderate'] = fuzz.trimf(Conclusion.universe,[0.3,0.45,0.6])\n",
        "Conclusion['Severe'] = fuzz.trimf(Conclusion.universe,[0.6,0.7,0.8])\n",
        "Conclusion['Very Severe'] = fuzz.trimf(Conclusion.universe,[0.8,1,1])\n",
        "\n",
        "rule1 = ctrl.Rule(Fever['Minor'] & Headache['Minor'] & Nausea['Minor'] & Vomiting['Minor'] & Jaundice['Minor'] & Enlarge_Liver['Minor'] & Joint_Pain['Minor'] & Body_Weakness['Minor'] & Dissiness['Severe'] & Loss_of_Appetite['Minor'] & MP['Minor'], Conclusion['Minor'])\n",
        "rule2 = ctrl.Rule(Fever['Moderate'] & Headache['Minor'] & Nausea['Minor'] & Vomiting['Minor'] & Jaundice['Minor'] & Enlarge_Liver['Minor'] & Joint_Pain['Moderate'] & Body_Weakness['Moderate'] & Dissiness['Severe'] & Loss_of_Appetite['Severe'] & MP['Moderate'], Conclusion['Moderate'])\n",
        "rule3 = ctrl.Rule(Fever['Severe'] & Headache['Moderate'] & Nausea['Minor'] & Vomiting['Minor'] & Jaundice['Minor'] & Enlarge_Liver['Minor'] & Joint_Pain['Minor'] & Body_Weakness['Severe'] & Dissiness['Severe'] & Loss_of_Appetite['Severe'] & MP['Moderate'], Conclusion['Severe'])\n",
        "rule4 = ctrl.Rule(Fever['Very Severe'] & Headache['Minor'] & Nausea['Minor'] & Vomiting['Minor'] & Jaundice['Minor'] & Enlarge_Liver['Minor'] & Joint_Pain['Severe'] & Body_Weakness['Severe'] & Dissiness['Minor'] & Loss_of_Appetite['Minor'] & MP['Severe'], Conclusion['Very Severe'])\n",
        "rule5 = ctrl.Rule(Fever['Moderate'] & Headache['Minor'] & Nausea['Minor'] & Vomiting['Moderate'] & Jaundice['Minor'] & Enlarge_Liver['Minor'] & Joint_Pain['Moderate'] & Body_Weakness['Moderate'] & Dissiness['Moderate'] & Loss_of_Appetite['Severe'] & MP['Moderate'], Conclusion['Moderate'])\n",
        "rule6 = ctrl.Rule(Fever['Minor'] & Headache['Moderate'] & Nausea['Moderate'] & Vomiting['Minor'] & Jaundice['Minor'] & Enlarge_Liver['Minor'] & Joint_Pain['Minor'] & Body_Weakness['Minor'] & Dissiness['Moderate'] & Loss_of_Appetite['Minor'] & MP['Minor'], Conclusion['Minor'])\n",
        "rule7 = ctrl.Rule(Fever['Minor'] & Headache['Minor'] & Nausea['Moderate'] & Vomiting['Moderate'] & Jaundice['Minor'] & Enlarge_Liver['Minor'] & Joint_Pain['Severe'] & Body_Weakness['Severe'] & Dissiness['Moderate'] & Loss_of_Appetite['Moderate'] & MP['Moderate'], Conclusion['Severe'])\n",
        "rule8 = ctrl.Rule(Fever['Moderate'] & Headache['Moderate'] & Nausea['Moderate'] & Vomiting['Moderate'] & Jaundice['Moderate'] & Enlarge_Liver['Moderate'] & Joint_Pain['Moderate'] & Body_Weakness['Moderate'] & Dissiness['Moderate'] & Loss_of_Appetite['Moderate'] & MP['Moderate'], Conclusion['Moderate'])\n",
        "rule9 = ctrl.Rule(Fever['Moderate'] & Headache['Minor'] & Nausea['Moderate'] & Vomiting['Moderate'] & Jaundice['Minor'] & Enlarge_Liver['Severe'] & Joint_Pain['Moderate'] & Body_Weakness['Moderate'] & Dissiness['Severe'] & Loss_of_Appetite['Moderate'] & MP['Moderate'], Conclusion['Moderate'])\n",
        "rule10 = ctrl.Rule(Fever['Minor'] & Headache['Minor'] & Nausea['Moderate'] & Vomiting['Moderate'] & Jaundice['Minor'] & Enlarge_Liver['Moderate'] & Joint_Pain['Minor'] & Body_Weakness['Minor'] & Dissiness['Severe'] & Loss_of_Appetite['Minor'] & MP['Minor'], Conclusion['Minor'])\n",
        "rule11 = ctrl.Rule(Fever['Severe'] & Headache['Severe'] & Nausea['Severe'] & Vomiting['Severe'] & Jaundice['Severe'] & Enlarge_Liver['Severe'] & Joint_Pain['Severe'] & Body_Weakness['Very Severe'] & Dissiness['Severe'] & Loss_of_Appetite['Severe'] & MP['Moderate'], Conclusion['Very Severe'])\n",
        "rule12 = ctrl.Rule(Fever['Moderate'] & Headache['Severe'] & Nausea['Moderate'] & Vomiting['Severe'] & Jaundice['Moderate'] & Enlarge_Liver['Severe'] & Joint_Pain['Moderate'] & Body_Weakness['Severe'] & Dissiness['Moderate'] & Loss_of_Appetite['Minor'] & MP['Moderate'], Conclusion['Severe'])\n",
        "rule13 = ctrl.Rule(Fever['Minor'] & Headache['Moderate'] & Nausea['Moderate'] & Vomiting['Moderate'] & Jaundice['Minor'] & Enlarge_Liver['Minor'] & Joint_Pain['Minor'] & Body_Weakness['Moderate'] & Dissiness['Minor'] & Loss_of_Appetite['Moderate'] & MP['Moderate'], Conclusion['Moderate'])\n",
        "rule14 = ctrl.Rule(Fever['Severe'] & Headache['Severe'] & Nausea['Moderate'] & Vomiting['Severe'] & Jaundice['Severe'] & Enlarge_Liver['Severe'] & Joint_Pain['Severe'] & Body_Weakness['Severe'] & Dissiness['Moderate'] & Loss_of_Appetite['Moderate'] & MP['Severe'], Conclusion['Severe'])\n",
        "rule15 = ctrl.Rule(Fever['Minor'] & Headache['Minor'] & Nausea['Minor'] & Vomiting['Moderate'] & Jaundice['Minor'] & Enlarge_Liver['Minor'] & Joint_Pain['Minor'] & Body_Weakness['Severe'] & Dissiness['Minor'] & Loss_of_Appetite['Severe'] & MP['Moderate'], Conclusion['Severe'])\n",
        "rule16 = ctrl.Rule(Fever['Very Severe'] & Headache['Moderate'] & Nausea['Minor'] & Vomiting['Moderate'] & Jaundice['Severe'] & Enlarge_Liver['Moderate'] & Joint_Pain['Minor'] & Body_Weakness['Very Severe'] & Dissiness['Severe'] & Loss_of_Appetite['Minor'] & MP['Moderate'], Conclusion['Very Severe'])\n",
        "rule17 = ctrl.Rule(Fever['Minor'] & Headache['Very Severe'] & Nausea['Moderate'] & Vomiting['Moderate'] & Jaundice['Minor'] & Enlarge_Liver['Moderate'] & Joint_Pain['Minor'] & Body_Weakness['Moderate'] & Dissiness['Very Severe'] & Loss_of_Appetite['Minor'] & MP['Moderate'], Conclusion['Very Severe'])\n",
        "rule18 = ctrl.Rule(Fever['Moderate'] & Headache['Very Severe'] & Nausea['Very Severe'] & Vomiting['Minor'] & Jaundice['Severe'] & Enlarge_Liver['Severe'] & Joint_Pain['Moderate'] & Body_Weakness['Severe'] & Dissiness['Very Severe'] & Loss_of_Appetite['Very Severe'] & MP['Severe'], Conclusion['Very Severe'])\n",
        "rule19 = ctrl.Rule(Fever['Moderate'] & Headache['Moderate'] & Nausea['Moderate'] & Vomiting['Moderate'] & Jaundice['Minor'] & Enlarge_Liver['Minor'] & Joint_Pain['Moderate'] & Body_Weakness['Moderate'] & Dissiness['Moderate'] & Loss_of_Appetite['Moderate'] & MP['Moderate'], Conclusion['Moderate'])\n",
        "rule20 = ctrl.Rule(Fever['Very Severe'] & Headache['Severe'] & Nausea['Severe'] & Vomiting['Severe'] & Jaundice['Severe'] & Enlarge_Liver['Severe'] & Joint_Pain['Severe'] & Body_Weakness['Severe'] & Dissiness['Severe'] & Loss_of_Appetite['Severe'] & MP['Moderate'], Conclusion['Very Severe'])\n",
        "Conclusioning_ctrl = ctrl.ControlSystem([rule1,rule2,rule3,rule4,rule5,rule6,rule7,rule8,rule9,rule10,rule11,rule12,rule13,rule14,rule15,rule16,rule17,rule18,rule19,rule20])\n",
        "Conclusioning = ctrl.ControlSystemSimulation(Conclusioning_ctrl)\n",
        "\n",
        "Conclusioning.input['Fever'] = 0.4\n",
        "Conclusioning.input['Headache'] = 0.4\n",
        "Conclusioning.input['Nausea'] = 0.4\n",
        "Conclusioning.input['Vomiting'] = 0.4\n",
        "Conclusioning.input['Jaundice'] = 0.4\n",
        "Conclusioning.input['Enlarge_Liver'] = 0.4\n",
        "Conclusioning.input['Joint_Pain'] = 0.4\n",
        "Conclusioning.input['Body_Weakness'] = 0.4\n",
        "Conclusioning.input['Dissiness'] = 0.4\n",
        "Conclusioning.input['Loss_of_Appetite'] = 0.3\n",
        "Conclusioning.input['MP'] = 0.3\n",
        "\n",
        "Conclusioning.compute()\n",
        "print(Conclusioning.output['Conclusion'])\n",
        "Conclusion.view(sim = Conclusioning)"
      ],
      "metadata": {
        "colab": {
          "base_uri": "https://localhost:8080/",
          "height": 299
        },
        "id": "AnQkAghKlE7U",
        "outputId": "6c68ce5f-3ace-44a9-9694-28e8600af197"
      },
      "execution_count": 11,
      "outputs": [
        {
          "output_type": "stream",
          "name": "stdout",
          "text": [
            "0.24722222222222198\n"
          ]
        },
        {
          "output_type": "display_data",
          "data": {
            "text/plain": [
              "<Figure size 432x288 with 1 Axes>"
            ],
            "image/png": "[encoded data removed]"
          },
          "metadata": {
            "needs_background": "light"
          }
        }
      ]
    },
    {
      "cell_type": "code",
      "source": [],
      "metadata": {
        "id": "FoWfIVT-pOiJ"
      },
      "execution_count": null,
      "outputs": []
    }
  ]
}